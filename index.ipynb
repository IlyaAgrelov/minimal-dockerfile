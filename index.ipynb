import numpy as np
import matplotlib.pyplot as plt

x = np.random.randn(100_000)
plt.hist(x, bins=20, facecolor="blue", alpha=0.5)

plt.show()
